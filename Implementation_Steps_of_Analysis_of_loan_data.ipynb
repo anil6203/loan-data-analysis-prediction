{
  "nbformat": 4,
  "nbformat_minor": 0,
  "metadata": {
    "colab": {
      "name": "Implementation_Steps_of_Analysis_of_loan_data.ipynb",
      "provenance": [],
      "collapsed_sections": []
    },
    "kernelspec": {
      "name": "python3",
      "display_name": "Python 3"
    },
    "language_info": {
      "name": "python"
    }
  },
  "cells": [
    {
      "cell_type": "markdown",
      "metadata": {
        "id": "KUv8TJNK16TA"
      },
      "source": [
        "**Importing Libraries**"
      ]
    },
    {
      "cell_type": "code",
      "metadata": {
        "id": "WRr4wjZVbX7r"
      },
      "source": [
        " import numpy as np # linear data\n",
        " import pandas as pd # Data frame organisation\n",
        " import matplotlib.pyplot as plt # graph plot\n",
        " import seaborn as sns # complex graph plot"
      ],
      "execution_count": null,
      "outputs": []
    },
    {
      "cell_type": "markdown",
      "metadata": {
        "id": "bC0AfZbx23JF"
      },
      "source": [
        "**Mouting Google Drive**"
      ]
    },
    {
      "cell_type": "code",
      "metadata": {
        "id": "XtIogbe9av7N",
        "colab": {
          "base_uri": "https://localhost:8080/"
        },
        "outputId": "6eb5d674-1970-479c-b9f1-a7ecf5e96ad5"
      },
      "source": [
        "# from google.colab import drive\n",
        "# drive.mount('/content/drive')\n",
        "from google.colab import drive \n",
        "drive.mount('/content/drive')"
      ],
      "execution_count": null,
      "outputs": [
        {
          "output_type": "stream",
          "name": "stdout",
          "text": [
            "Drive already mounted at /content/drive; to attempt to forcibly remount, call drive.mount(\"/content/drive\", force_remount=True).\n"
          ]
        }
      ]
    },
    {
      "cell_type": "markdown",
      "metadata": {
        "id": "aafeHDHCvqt_"
      },
      "source": [
        "**Importing Data**"
      ]
    },
    {
      "cell_type": "code",
      "metadata": {
        "id": "pT7Hl_hcvw_I",
        "colab": {
          "base_uri": "https://localhost:8080/",
          "height": 224
        },
        "outputId": "cfe78cdc-4dc6-4f35-ae88-9a409907d4c7"
      },
      "source": [
        "loan_data = pd.read_csv('/content/drive/MyDrive/Project DS/loan_data.csv') # read_csv funtion to read \n",
        "loan_data.head()"
      ],
      "execution_count": null,
      "outputs": [
        {
          "output_type": "execute_result",
          "data": {
            "text/html": [
              "<div>\n",
              "<style scoped>\n",
              "    .dataframe tbody tr th:only-of-type {\n",
              "        vertical-align: middle;\n",
              "    }\n",
              "\n",
              "    .dataframe tbody tr th {\n",
              "        vertical-align: top;\n",
              "    }\n",
              "\n",
              "    .dataframe thead th {\n",
              "        text-align: right;\n",
              "    }\n",
              "</style>\n",
              "<table border=\"1\" class=\"dataframe\">\n",
              "  <thead>\n",
              "    <tr style=\"text-align: right;\">\n",
              "      <th></th>\n",
              "      <th>credit.policy</th>\n",
              "      <th>purpose</th>\n",
              "      <th>int.rate</th>\n",
              "      <th>installment</th>\n",
              "      <th>log.annual.inc</th>\n",
              "      <th>dti</th>\n",
              "      <th>fico</th>\n",
              "      <th>days.with.cr.line</th>\n",
              "      <th>revol.bal</th>\n",
              "      <th>revol.util</th>\n",
              "      <th>inq.last.6mths</th>\n",
              "      <th>delinq.2yrs</th>\n",
              "      <th>pub.rec</th>\n",
              "      <th>not.fully.paid</th>\n",
              "    </tr>\n",
              "  </thead>\n",
              "  <tbody>\n",
              "    <tr>\n",
              "      <th>0</th>\n",
              "      <td>1</td>\n",
              "      <td>debt_consolidation</td>\n",
              "      <td>0.1189</td>\n",
              "      <td>829.10</td>\n",
              "      <td>11.350407</td>\n",
              "      <td>19.48</td>\n",
              "      <td>737</td>\n",
              "      <td>5639.958333</td>\n",
              "      <td>28854</td>\n",
              "      <td>52.1</td>\n",
              "      <td>0</td>\n",
              "      <td>0</td>\n",
              "      <td>0</td>\n",
              "      <td>0</td>\n",
              "    </tr>\n",
              "    <tr>\n",
              "      <th>1</th>\n",
              "      <td>1</td>\n",
              "      <td>credit_card</td>\n",
              "      <td>0.1071</td>\n",
              "      <td>228.22</td>\n",
              "      <td>11.082143</td>\n",
              "      <td>14.29</td>\n",
              "      <td>707</td>\n",
              "      <td>2760.000000</td>\n",
              "      <td>33623</td>\n",
              "      <td>76.7</td>\n",
              "      <td>0</td>\n",
              "      <td>0</td>\n",
              "      <td>0</td>\n",
              "      <td>0</td>\n",
              "    </tr>\n",
              "    <tr>\n",
              "      <th>2</th>\n",
              "      <td>1</td>\n",
              "      <td>debt_consolidation</td>\n",
              "      <td>0.1357</td>\n",
              "      <td>366.86</td>\n",
              "      <td>10.373491</td>\n",
              "      <td>11.63</td>\n",
              "      <td>682</td>\n",
              "      <td>4710.000000</td>\n",
              "      <td>3511</td>\n",
              "      <td>25.6</td>\n",
              "      <td>1</td>\n",
              "      <td>0</td>\n",
              "      <td>0</td>\n",
              "      <td>0</td>\n",
              "    </tr>\n",
              "    <tr>\n",
              "      <th>3</th>\n",
              "      <td>1</td>\n",
              "      <td>debt_consolidation</td>\n",
              "      <td>0.1008</td>\n",
              "      <td>162.34</td>\n",
              "      <td>11.350407</td>\n",
              "      <td>8.10</td>\n",
              "      <td>712</td>\n",
              "      <td>2699.958333</td>\n",
              "      <td>33667</td>\n",
              "      <td>73.2</td>\n",
              "      <td>1</td>\n",
              "      <td>0</td>\n",
              "      <td>0</td>\n",
              "      <td>0</td>\n",
              "    </tr>\n",
              "    <tr>\n",
              "      <th>4</th>\n",
              "      <td>1</td>\n",
              "      <td>credit_card</td>\n",
              "      <td>0.1426</td>\n",
              "      <td>102.92</td>\n",
              "      <td>11.299732</td>\n",
              "      <td>14.97</td>\n",
              "      <td>667</td>\n",
              "      <td>4066.000000</td>\n",
              "      <td>4740</td>\n",
              "      <td>39.5</td>\n",
              "      <td>0</td>\n",
              "      <td>1</td>\n",
              "      <td>0</td>\n",
              "      <td>0</td>\n",
              "    </tr>\n",
              "  </tbody>\n",
              "</table>\n",
              "</div>"
            ],
            "text/plain": [
              "   credit.policy             purpose  ...  pub.rec  not.fully.paid\n",
              "0              1  debt_consolidation  ...        0               0\n",
              "1              1         credit_card  ...        0               0\n",
              "2              1  debt_consolidation  ...        0               0\n",
              "3              1  debt_consolidation  ...        0               0\n",
              "4              1         credit_card  ...        0               0\n",
              "\n",
              "[5 rows x 14 columns]"
            ]
          },
          "metadata": {},
          "execution_count": 85
        }
      ]
    },
    {
      "cell_type": "markdown",
      "metadata": {
        "id": "S5UC6MAApQJ-"
      },
      "source": [
        "**Exploratory Data Analysis**"
      ]
    },
    {
      "cell_type": "markdown",
      "metadata": {
        "id": "b9T33h-kqbp6"
      },
      "source": [
        "Create a histogram of two FICO distributions on top of each other, one for each credit.policy\n",
        "outcome.\n"
      ]
    },
    {
      "cell_type": "code",
      "metadata": {
        "id": "f28_kW1zqgck",
        "colab": {
          "base_uri": "https://localhost:8080/",
          "height": 405
        },
        "outputId": "2c1baac5-a90e-435e-fdc8-4f21c5280549"
      },
      "source": [
        "plt.figure(figsize=(20, 6))\n",
        "# loan_data[loan_data['credit.policy'] == 1]['fico'].hist(bins=30, color=\"blue\", label=\"credit.policy==1\")\n",
        "loan_data[loan_data['credit.policy'] == 1]['fico'].plot(kind='hist', bins=30, color='blue', label=\"credit.policy==1\")\n",
        "loan_data[loan_data['credit.policy'] == 0]['fico'].hist(bins=30, color=\"red\", label=\"credict.policy==0\")\n",
        "plt.legend() # TO SHOW LABLEL\n",
        "plt.xlabel('FICO SCORE')\n"
      ],
      "execution_count": null,
      "outputs": [
        {
          "output_type": "execute_result",
          "data": {
            "text/plain": [
              "Text(0.5, 0, 'FICO SCORE')"
            ]
          },
          "metadata": {},
          "execution_count": 86
        },
        {
          "output_type": "display_data",
          "data": {
            "image/png": "[encoded data removed]",
            "text/plain": [
              "<Figure size 1440x432 with 1 Axes>"
            ]
          },
          "metadata": {
            "needs_background": "light"
          }
        }
      ]
    },
    {
      "cell_type": "markdown",
      "metadata": {
        "id": "N6ozEVrRqjQ6"
      },
      "source": [
        "Create a histogram of two FICO distributions on top of each other, one for each not.fully.paid."
      ]
    },
    {
      "cell_type": "code",
      "metadata": {
        "id": "YAiOiE-Lq2i1",
        "colab": {
          "base_uri": "https://localhost:8080/",
          "height": 405
        },
        "outputId": "544ec013-3bda-4542-9eec-ac841a692fa1"
      },
      "source": [
        "plt.figure(figsize=(20, 6))\n",
        "# loan_data[loan_data['credit.policy'] == 1]['fico'].hist(bins=30, color=\"blue\", label=\"credit.policy==1\")\n",
        "loan_data[loan_data['not.fully.paid'] == 1]['fico'].plot(kind='hist', bins=30, color='red', label=\"not.fully.paid==1\")\n",
        "loan_data[loan_data['not.fully.paid'] == 0]['fico'].hist(bins=30, color=\"blue\", label=\"not.fully.paid==0\")\n",
        "plt.legend() # TO SHOW LABLEL\n",
        "plt.xlabel('FICO SCORE')"
      ],
      "execution_count": null,
      "outputs": [
        {
          "output_type": "execute_result",
          "data": {
            "text/plain": [
              "Text(0.5, 0, 'FICO SCORE')"
            ]
          },
          "metadata": {},
          "execution_count": 87
        },
        {
          "output_type": "display_data",
          "data": {
            "image/png": "[encoded data removed]",
            "text/plain": [
              "<Figure size 1440x432 with 1 Axes>"
            ]
          },
          "metadata": {
            "needs_background": "light"
          }
        }
      ]
    },
    {
      "cell_type": "markdown",
      "metadata": {
        "id": "J_bFROutq4Yy"
      },
      "source": [
        "Count plot between purpose and not.fully.paid"
      ]
    },
    {
      "cell_type": "code",
      "metadata": {
        "id": "20xW0PjhrKJg",
        "colab": {
          "base_uri": "https://localhost:8080/",
          "height": 408
        },
        "outputId": "42a8a46c-c549-46e2-abc7-5ce8f93e926a"
      },
      "source": [
        "plt.figure(figsize=(20, 6))\n",
        "sns.countplot(x='purpose', hue='not.fully.paid', data=loan_data, palette=\"Greens_r\")"
      ],
      "execution_count": null,
      "outputs": [
        {
          "output_type": "execute_result",
          "data": {
            "text/plain": [
              "<matplotlib.axes._subplots.AxesSubplot at 0x7f45f6bcec10>"
            ]
          },
          "metadata": {},
          "execution_count": 88
        },
        {
          "output_type": "display_data",
          "data": {
            "image/png": "[encoded data removed]",
            "text/plain": [
              "<Figure size 1440x432 with 1 Axes>"
            ]
          },
          "metadata": {
            "needs_background": "light"
          }
        }
      ]
    },
    {
      "cell_type": "markdown",
      "metadata": {
        "id": "Y2gfHmwtraE6"
      },
      "source": [
        "Join plot between FICO score and Interest rate"
      ]
    },
    {
      "cell_type": "code",
      "metadata": {
        "id": "Yy62C_Zorl6W",
        "colab": {
          "base_uri": "https://localhost:8080/",
          "height": 458
        },
        "outputId": "cf430820-ceab-4ed2-a7cf-87c94bbac032"
      },
      "source": [
        "sns.jointplot(x='fico', y='int.rate', data=loan_data)"
      ],
      "execution_count": null,
      "outputs": [
        {
          "output_type": "execute_result",
          "data": {
            "text/plain": [
              "<seaborn.axisgrid.JointGrid at 0x7f45f7434150>"
            ]
          },
          "metadata": {},
          "execution_count": 89
        },
        {
          "output_type": "display_data",
          "data": {
            "image/png": "[encoded data removed]",
            "text/plain": [
              "<Figure size 432x432 with 3 Axes>"
            ]
          },
          "metadata": {
            "needs_background": "light"
          }
        }
      ]
    },
    {
      "cell_type": "markdown",
      "metadata": {
        "id": "Egg40spt9YaB"
      },
      "source": [
        "**Encoding The String Data Column Into Integer Column**"
      ]
    },
    {
      "cell_type": "code",
      "metadata": {
        "id": "ddzYw2u9eSDO",
        "colab": {
          "base_uri": "https://localhost:8080/",
          "height": 379
        },
        "outputId": "4410d344-4609-4926-a57d-88b184082802"
      },
      "source": [
        "from sklearn.preprocessing import LabelEncoder \n",
        "loan_data_copy = loan_data;\n",
        "loan_data_copy['purpose_encoded'] = LabelEncoder().fit_transform(loan_data['purpose']);\n",
        "loan_data_copy.drop(columns=['purpose'], inplace=True)\n",
        "loan_data_copy.head(10)\n"
      ],
      "execution_count": null,
      "outputs": [
        {
          "output_type": "execute_result",
          "data": {
            "text/html": [
              "<div>\n",
              "<style scoped>\n",
              "    .dataframe tbody tr th:only-of-type {\n",
              "        vertical-align: middle;\n",
              "    }\n",
              "\n",
              "    .dataframe tbody tr th {\n",
              "        vertical-align: top;\n",
              "    }\n",
              "\n",
              "    .dataframe thead th {\n",
              "        text-align: right;\n",
              "    }\n",
              "</style>\n",
              "<table border=\"1\" class=\"dataframe\">\n",
              "  <thead>\n",
              "    <tr style=\"text-align: right;\">\n",
              "      <th></th>\n",
              "      <th>credit.policy</th>\n",
              "      <th>int.rate</th>\n",
              "      <th>installment</th>\n",
              "      <th>log.annual.inc</th>\n",
              "      <th>dti</th>\n",
              "      <th>fico</th>\n",
              "      <th>days.with.cr.line</th>\n",
              "      <th>revol.bal</th>\n",
              "      <th>revol.util</th>\n",
              "      <th>inq.last.6mths</th>\n",
              "      <th>delinq.2yrs</th>\n",
              "      <th>pub.rec</th>\n",
              "      <th>not.fully.paid</th>\n",
              "      <th>purpose_encoded</th>\n",
              "    </tr>\n",
              "  </thead>\n",
              "  <tbody>\n",
              "    <tr>\n",
              "      <th>0</th>\n",
              "      <td>1</td>\n",
              "      <td>0.1189</td>\n",
              "      <td>829.10</td>\n",
              "      <td>11.350407</td>\n",
              "      <td>19.48</td>\n",
              "      <td>737</td>\n",
              "      <td>5639.958333</td>\n",
              "      <td>28854</td>\n",
              "      <td>52.1</td>\n",
              "      <td>0</td>\n",
              "      <td>0</td>\n",
              "      <td>0</td>\n",
              "      <td>0</td>\n",
              "      <td>2</td>\n",
              "    </tr>\n",
              "    <tr>\n",
              "      <th>1</th>\n",
              "      <td>1</td>\n",
              "      <td>0.1071</td>\n",
              "      <td>228.22</td>\n",
              "      <td>11.082143</td>\n",
              "      <td>14.29</td>\n",
              "      <td>707</td>\n",
              "      <td>2760.000000</td>\n",
              "      <td>33623</td>\n",
              "      <td>76.7</td>\n",
              "      <td>0</td>\n",
              "      <td>0</td>\n",
              "      <td>0</td>\n",
              "      <td>0</td>\n",
              "      <td>1</td>\n",
              "    </tr>\n",
              "    <tr>\n",
              "      <th>2</th>\n",
              "      <td>1</td>\n",
              "      <td>0.1357</td>\n",
              "      <td>366.86</td>\n",
              "      <td>10.373491</td>\n",
              "      <td>11.63</td>\n",
              "      <td>682</td>\n",
              "      <td>4710.000000</td>\n",
              "      <td>3511</td>\n",
              "      <td>25.6</td>\n",
              "      <td>1</td>\n",
              "      <td>0</td>\n",
              "      <td>0</td>\n",
              "      <td>0</td>\n",
              "      <td>2</td>\n",
              "    </tr>\n",
              "    <tr>\n",
              "      <th>3</th>\n",
              "      <td>1</td>\n",
              "      <td>0.1008</td>\n",
              "      <td>162.34</td>\n",
              "      <td>11.350407</td>\n",
              "      <td>8.10</td>\n",
              "      <td>712</td>\n",
              "      <td>2699.958333</td>\n",
              "      <td>33667</td>\n",
              "      <td>73.2</td>\n",
              "      <td>1</td>\n",
              "      <td>0</td>\n",
              "      <td>0</td>\n",
              "      <td>0</td>\n",
              "      <td>2</td>\n",
              "    </tr>\n",
              "    <tr>\n",
              "      <th>4</th>\n",
              "      <td>1</td>\n",
              "      <td>0.1426</td>\n",
              "      <td>102.92</td>\n",
              "      <td>11.299732</td>\n",
              "      <td>14.97</td>\n",
              "      <td>667</td>\n",
              "      <td>4066.000000</td>\n",
              "      <td>4740</td>\n",
              "      <td>39.5</td>\n",
              "      <td>0</td>\n",
              "      <td>1</td>\n",
              "      <td>0</td>\n",
              "      <td>0</td>\n",
              "      <td>1</td>\n",
              "    </tr>\n",
              "    <tr>\n",
              "      <th>5</th>\n",
              "      <td>1</td>\n",
              "      <td>0.0788</td>\n",
              "      <td>125.13</td>\n",
              "      <td>11.904968</td>\n",
              "      <td>16.98</td>\n",
              "      <td>727</td>\n",
              "      <td>6120.041667</td>\n",
              "      <td>50807</td>\n",
              "      <td>51.0</td>\n",
              "      <td>0</td>\n",
              "      <td>0</td>\n",
              "      <td>0</td>\n",
              "      <td>0</td>\n",
              "      <td>1</td>\n",
              "    </tr>\n",
              "    <tr>\n",
              "      <th>6</th>\n",
              "      <td>1</td>\n",
              "      <td>0.1496</td>\n",
              "      <td>194.02</td>\n",
              "      <td>10.714418</td>\n",
              "      <td>4.00</td>\n",
              "      <td>667</td>\n",
              "      <td>3180.041667</td>\n",
              "      <td>3839</td>\n",
              "      <td>76.8</td>\n",
              "      <td>0</td>\n",
              "      <td>0</td>\n",
              "      <td>1</td>\n",
              "      <td>1</td>\n",
              "      <td>2</td>\n",
              "    </tr>\n",
              "    <tr>\n",
              "      <th>7</th>\n",
              "      <td>1</td>\n",
              "      <td>0.1114</td>\n",
              "      <td>131.22</td>\n",
              "      <td>11.002100</td>\n",
              "      <td>11.08</td>\n",
              "      <td>722</td>\n",
              "      <td>5116.000000</td>\n",
              "      <td>24220</td>\n",
              "      <td>68.6</td>\n",
              "      <td>0</td>\n",
              "      <td>0</td>\n",
              "      <td>0</td>\n",
              "      <td>1</td>\n",
              "      <td>0</td>\n",
              "    </tr>\n",
              "    <tr>\n",
              "      <th>8</th>\n",
              "      <td>1</td>\n",
              "      <td>0.1134</td>\n",
              "      <td>87.19</td>\n",
              "      <td>11.407565</td>\n",
              "      <td>17.25</td>\n",
              "      <td>682</td>\n",
              "      <td>3989.000000</td>\n",
              "      <td>69909</td>\n",
              "      <td>51.1</td>\n",
              "      <td>1</td>\n",
              "      <td>0</td>\n",
              "      <td>0</td>\n",
              "      <td>0</td>\n",
              "      <td>4</td>\n",
              "    </tr>\n",
              "    <tr>\n",
              "      <th>9</th>\n",
              "      <td>1</td>\n",
              "      <td>0.1221</td>\n",
              "      <td>84.12</td>\n",
              "      <td>10.203592</td>\n",
              "      <td>10.00</td>\n",
              "      <td>707</td>\n",
              "      <td>2730.041667</td>\n",
              "      <td>5630</td>\n",
              "      <td>23.0</td>\n",
              "      <td>1</td>\n",
              "      <td>0</td>\n",
              "      <td>0</td>\n",
              "      <td>0</td>\n",
              "      <td>2</td>\n",
              "    </tr>\n",
              "  </tbody>\n",
              "</table>\n",
              "</div>"
            ],
            "text/plain": [
              "   credit.policy  int.rate  ...  not.fully.paid  purpose_encoded\n",
              "0              1    0.1189  ...               0                2\n",
              "1              1    0.1071  ...               0                1\n",
              "2              1    0.1357  ...               0                2\n",
              "3              1    0.1008  ...               0                2\n",
              "4              1    0.1426  ...               0                1\n",
              "5              1    0.0788  ...               0                1\n",
              "6              1    0.1496  ...               1                2\n",
              "7              1    0.1114  ...               1                0\n",
              "8              1    0.1134  ...               0                4\n",
              "9              1    0.1221  ...               0                2\n",
              "\n",
              "[10 rows x 14 columns]"
            ]
          },
          "metadata": {},
          "execution_count": 90
        }
      ]
    },
    {
      "cell_type": "markdown",
      "metadata": {
        "id": "UYI2f-tOB44f"
      },
      "source": [
        "**Splitting The Dataset Into The Training Set And Test Set**"
      ]
    },
    {
      "cell_type": "code",
      "metadata": {
        "id": "VIjLIrRSh0Nu",
        "colab": {
          "base_uri": "https://localhost:8080/"
        },
        "outputId": "b09b7c6c-a126-4e5e-e0eb-093b14b755e5"
      },
      "source": [
        "from sklearn.model_selection import train_test_split\n",
        "X = loan_data_copy.iloc[:, loan_data_copy.columns!='not.fully.paid'].values\n",
        "y = loan_data_copy.iloc[:,-2].values\n",
        "\n",
        "X_train, X_test, y_train, y_test = train_test_split(X, y, test_size=.25, random_state=0)\n",
        "print(X_train[:5])\n",
        "print()\n",
        "\n",
        "print(X_test[:5])\n",
        "print()\n",
        "\n",
        "print(y_train[:5])\n",
        "print()\n",
        "\n",
        "print(y_test[:5])\n",
        "print()"
      ],
      "execution_count": null,
      "outputs": [
        {
          "output_type": "stream",
          "name": "stdout",
          "text": [
            "[[1.00000000e+00 1.38700000e-01 3.27500000e+02 1.16082356e+01\n",
            "  1.86200000e+01 6.62000000e+02 6.29995833e+03 6.80300000e+04\n",
            "  8.27000000e+01 3.00000000e+00 0.00000000e+00 0.00000000e+00\n",
            "  2.00000000e+00]\n",
            " [0.00000000e+00 1.45000000e-01 3.85520000e+02 1.12384886e+01\n",
            "  2.00200000e+01 6.67000000e+02 3.78004167e+03 7.32700000e+03\n",
            "  5.09000000e+01 6.00000000e+00 0.00000000e+00 1.00000000e+00\n",
            "  2.00000000e+00]\n",
            " [0.00000000e+00 9.01000000e-02 9.54200000e+01 1.04631033e+01\n",
            "  1.00000000e+01 7.17000000e+02 4.77000000e+03 0.00000000e+00\n",
            "  1.40000000e+01 3.00000000e+00 0.00000000e+00 0.00000000e+00\n",
            "  0.00000000e+00]\n",
            " [1.00000000e+00 1.14800000e-01 3.29700000e+01 1.01345993e+01\n",
            "  1.15700000e+01 7.02000000e+02 5.76000000e+03 7.56900000e+03\n",
            "  7.42000000e+01 2.00000000e+00 0.00000000e+00 0.00000000e+00\n",
            "  0.00000000e+00]\n",
            " [0.00000000e+00 1.35500000e-01 1.69800000e+02 1.10348897e+01\n",
            "  4.88000000e+00 6.52000000e+02 6.30000000e+03 3.34100000e+03\n",
            "  1.98000000e+01 3.00000000e+00 1.00000000e+00 0.00000000e+00\n",
            "  2.00000000e+00]]\n",
            "\n",
            "[[1.00000000e+00 1.18900000e-01 4.97500000e+01 1.08297286e+01\n",
            "  1.68700000e+01 6.87000000e+02 2.31495833e+03 9.62000000e+02\n",
            "  6.41000000e+01 0.00000000e+00 0.00000000e+00 0.00000000e+00\n",
            "  0.00000000e+00]\n",
            " [1.00000000e+00 1.22100000e-01 8.41200000e+01 1.02035921e+01\n",
            "  1.00000000e+01 7.07000000e+02 2.73004167e+03 5.63000000e+03\n",
            "  2.30000000e+01 1.00000000e+00 0.00000000e+00 0.00000000e+00\n",
            "  2.00000000e+00]\n",
            " [1.00000000e+00 1.69500000e-01 7.12540000e+02 1.19183906e+01\n",
            "  1.36100000e+01 6.72000000e+02 4.83004167e+03 1.64730000e+04\n",
            "  9.41000000e+01 2.00000000e+00 2.00000000e+00 0.00000000e+00\n",
            "  2.00000000e+00]\n",
            " [1.00000000e+00 1.73900000e-01 2.86780000e+02 1.11899616e+01\n",
            "  1.95900000e+01 6.67000000e+02 7.02000000e+03 1.98920000e+04\n",
            "  6.70000000e+01 1.00000000e+00 0.00000000e+00 1.00000000e+00\n",
            "  2.00000000e+00]\n",
            " [0.00000000e+00 1.31200000e-01 2.02510000e+02 9.39266193e+00\n",
            "  4.40000000e+00 6.57000000e+02 8.98958333e+02 5.25100000e+03\n",
            "  4.93000000e+01 9.00000000e+00 0.00000000e+00 0.00000000e+00\n",
            "  1.00000000e+00]]\n",
            "\n",
            "[0 1 0 1 0]\n",
            "\n",
            "[0 0 0 0 0]\n",
            "\n"
          ]
        }
      ]
    },
    {
      "cell_type": "markdown",
      "metadata": {
        "id": "vkOiOHJUCdRM"
      },
      "source": [
        "**Feature Scaling**"
      ]
    },
    {
      "cell_type": "code",
      "metadata": {
        "id": "uaHjFewcCTRC",
        "colab": {
          "base_uri": "https://localhost:8080/"
        },
        "outputId": "28f97244-e18d-40bb-cb40-4ec03e9bfd95"
      },
      "source": [
        "from sklearn.preprocessing import StandardScaler\n",
        "sc = StandardScaler();\n",
        "X_train = sc.fit_transform(X_train)\n",
        "X_test = sc.transform(X_test)\n",
        "\n",
        "print(X_train[:5])\n",
        "print()\n",
        "print(X_test[:5])"
      ],
      "execution_count": null,
      "outputs": [
        {
          "output_type": "stream",
          "name": "stdout",
          "text": [
            "[[ 0.48962308  0.6017048   0.03501718  1.08707262  0.88913238 -1.29695167\n",
            "   0.68140939  1.45651306  1.24045031  0.64318912 -0.29780951 -0.23803097\n",
            "   0.03801296]\n",
            " [-2.0423874   0.836106    0.31519239  0.48456504  1.09252137 -1.16484162\n",
            "  -0.31581241 -0.27728324  0.1442744   2.00282049 -0.29780951  3.48697219\n",
            "   0.03801296]\n",
            " [-2.0423874  -1.20653303 -1.08568369 -0.77893538 -0.36316266  0.15625879\n",
            "   0.07594976 -0.48655668 -1.12770331  0.64318912 -0.29780951 -0.23803097\n",
            "  -1.14657303]\n",
            " [ 0.48962308 -0.2875315  -1.38725112 -1.31423705 -0.13507644 -0.24007133\n",
            "   0.46772842 -0.27037125  0.94744731  0.18997866 -0.29780951 -0.23803097\n",
            "  -1.14657303]\n",
            " [-2.0423874   0.48264388 -0.72650698  0.15279788 -1.10698524 -1.56117175\n",
            "   0.68142588 -0.39113119 -0.92777186  0.64318912  1.49980874 -0.23803097\n",
            "   0.03801296]]\n",
            "\n",
            "[[ 0.48962308 -0.13498468 -1.30622147 -0.18151471  0.63489615 -0.63640146\n",
            "  -0.89559866 -0.45908008  0.59929081 -0.71644226 -0.29780951 -0.23803097\n",
            "  -1.14657303]\n",
            " [ 0.48962308 -0.01592376 -1.14025073 -1.20181227 -0.36316266 -0.10796129\n",
            "  -0.73133524 -0.32575288 -0.81746485 -0.2632318  -0.29780951 -0.23803097\n",
            "   0.03801296]\n",
            " [ 0.48962308  1.74766623  1.89435301  1.59247413  0.16129037 -1.03273158\n",
            "   0.09971041 -0.01605561  1.63341903  0.18997866  3.29742698 -0.23803097\n",
            "   0.03801296]\n",
            " [ 0.48962308  1.91137501 -0.16161734  0.40548959  1.03005189 -1.16484162\n",
            "   0.96635581  0.08159771  0.69925654 -0.2632318  -0.29780951  3.48697219\n",
            "   0.03801296]\n",
            " [-2.0423874   0.32265576 -0.56855229 -2.52323362 -1.17671861 -1.42906171\n",
            "  -1.45596087 -0.33657786  0.08912089  3.36245187 -0.29780951 -0.23803097\n",
            "  -0.55428004]]\n"
          ]
        }
      ]
    },
    {
      "cell_type": "markdown",
      "metadata": {
        "id": "La84ZldLohGg"
      },
      "source": [
        "**Training The Logistic Regression Model On The Training Set**"
      ]
    },
    {
      "cell_type": "code",
      "metadata": {
        "id": "0mhgw_GootnA",
        "colab": {
          "base_uri": "https://localhost:8080/"
        },
        "outputId": "6a76e95f-eb26-4650-ddc9-98c7f09a1a1d"
      },
      "source": [
        "from sklearn.linear_model import LogisticRegression\n",
        "L_clf = LogisticRegression(random_state=0)\n",
        "L_clf.fit(X_train, y_train)"
      ],
      "execution_count": null,
      "outputs": [
        {
          "output_type": "execute_result",
          "data": {
            "text/plain": [
              "LogisticRegression(C=1.0, class_weight=None, dual=False, fit_intercept=True,\n",
              "                   intercept_scaling=1, l1_ratio=None, max_iter=100,\n",
              "                   multi_class='auto', n_jobs=None, penalty='l2',\n",
              "                   random_state=0, solver='lbfgs', tol=0.0001, verbose=0,\n",
              "                   warm_start=False)"
            ]
          },
          "metadata": {},
          "execution_count": 102
        }
      ]
    },
    {
      "cell_type": "markdown",
      "metadata": {
        "id": "Sl9-bhZksb-w"
      },
      "source": [
        "**Prediction of Result using Logistic Regression**"
      ]
    },
    {
      "cell_type": "code",
      "metadata": {
        "id": "tw5kslw7sjno",
        "colab": {
          "base_uri": "https://localhost:8080/"
        },
        "outputId": "1d90e66e-34bd-42fb-9f6b-6fc2eb33cd1c"
      },
      "source": [
        "predict_new_result = L_clf.predict([X_test[0]])\n",
        "print(y_test[0], predict_new_result[0])"
      ],
      "execution_count": null,
      "outputs": [
        {
          "output_type": "stream",
          "name": "stdout",
          "text": [
            "0 0\n"
          ]
        }
      ]
    },
    {
      "cell_type": "markdown",
      "metadata": {
        "id": "Qyfd8xn-ruap"
      },
      "source": [
        "**Buiding Confussion Matrix of Logistic Regression**"
      ]
    },
    {
      "cell_type": "code",
      "metadata": {
        "id": "uPJXwNy7sI9t",
        "colab": {
          "base_uri": "https://localhost:8080/"
        },
        "outputId": "9669accc-8a32-4c8c-f634-ec86c05eef79"
      },
      "source": [
        "from sklearn.metrics import confusion_matrix, accuracy_score\n",
        "y_predict_L = L_clf.predict(X_test)\n",
        "cm_L = confusion_matrix(y_test, y_predict_L)\n",
        "print(cm_L)"
      ],
      "execution_count": null,
      "outputs": [
        {
          "output_type": "stream",
          "name": "stdout",
          "text": [
            "[[2006    8]\n",
            " [ 379    2]]\n"
          ]
        }
      ]
    },
    {
      "cell_type": "markdown",
      "metadata": {
        "id": "NxxoTmHwsL9p"
      },
      "source": [
        "**Accuracy of Logistic regression**"
      ]
    },
    {
      "cell_type": "code",
      "metadata": {
        "id": "wXECv1_ysVVK",
        "colab": {
          "base_uri": "https://localhost:8080/"
        },
        "outputId": "e87e6ed5-3d0c-4c48-d09a-e7ee7ffe21e2"
      },
      "source": [
        "accuracy_of_model_L = accuracy_score(y_test, y_predict_L)\n",
        "print('Accuracy of Model : ', accuracy_of_model_L)"
      ],
      "execution_count": null,
      "outputs": [
        {
          "output_type": "stream",
          "name": "stdout",
          "text": [
            "Accuracy of Model :  0.8384133611691023\n"
          ]
        }
      ]
    },
    {
      "cell_type": "markdown",
      "metadata": {
        "id": "DpgIq1hqowGn"
      },
      "source": [
        "**Training The Decision Tree Model On The Training Set**"
      ]
    },
    {
      "cell_type": "code",
      "metadata": {
        "id": "IC44kFWho8px",
        "colab": {
          "base_uri": "https://localhost:8080/"
        },
        "outputId": "c65ab8c4-3f9c-443c-be36-94812342d2c4"
      },
      "source": [
        "from sklearn.tree import DecisionTreeClassifier\n",
        "\n",
        "D_clf = DecisionTreeClassifier(criterion=\"entropy\", random_state=0)\n",
        "D_clf.fit(X_train, y_train)"
      ],
      "execution_count": null,
      "outputs": [
        {
          "output_type": "execute_result",
          "data": {
            "text/plain": [
              "DecisionTreeClassifier(ccp_alpha=0.0, class_weight=None, criterion='entropy',\n",
              "                       max_depth=None, max_features=None, max_leaf_nodes=None,\n",
              "                       min_impurity_decrease=0.0, min_impurity_split=None,\n",
              "                       min_samples_leaf=1, min_samples_split=2,\n",
              "                       min_weight_fraction_leaf=0.0, presort='deprecated',\n",
              "                       random_state=0, splitter='best')"
            ]
          },
          "metadata": {},
          "execution_count": 110
        }
      ]
    },
    {
      "cell_type": "markdown",
      "metadata": {
        "id": "CO0uQEBNspD4"
      },
      "source": [
        "**Prediction of Result using Decision Tree Model**"
      ]
    },
    {
      "cell_type": "code",
      "metadata": {
        "id": "1rwN2y6ssv_P",
        "colab": {
          "base_uri": "https://localhost:8080/"
        },
        "outputId": "46c12b2e-0fef-46af-88bf-946cfb44f672"
      },
      "source": [
        "predict_new_result = D_clf.predict([X_test[0]])\n",
        "print(y_test[0], predict_new_result[0])"
      ],
      "execution_count": null,
      "outputs": [
        {
          "output_type": "stream",
          "name": "stdout",
          "text": [
            "0 0\n"
          ]
        }
      ]
    },
    {
      "cell_type": "markdown",
      "metadata": {
        "id": "Cu4CUqjssz0b"
      },
      "source": [
        "**Buiding Confussion Matrix of Decision Tree**"
      ]
    },
    {
      "cell_type": "code",
      "metadata": {
        "id": "xkOd6sHks55p",
        "colab": {
          "base_uri": "https://localhost:8080/"
        },
        "outputId": "6f1d1fc2-3225-41ad-a30a-4b22bb638967"
      },
      "source": [
        "y_predict_D = D_clf.predict(X_test)\n",
        "cm_D = confusion_matrix(y_test, y_predict_D)\n",
        "print(cm_D)"
      ],
      "execution_count": null,
      "outputs": [
        {
          "output_type": "stream",
          "name": "stdout",
          "text": [
            "[[1681  333]\n",
            " [ 293   88]]\n"
          ]
        }
      ]
    },
    {
      "cell_type": "markdown",
      "metadata": {
        "id": "aNQF9aJ0s7xy"
      },
      "source": [
        "**Accuracy of Decision Tree Model**"
      ]
    },
    {
      "cell_type": "code",
      "metadata": {
        "id": "t6qaKmRitC8v",
        "colab": {
          "base_uri": "https://localhost:8080/"
        },
        "outputId": "a3f1efcf-71c1-454e-91e6-986b49e52223"
      },
      "source": [
        "accuracy_of_model_D = accuracy_score(y_test, y_predict_D)\n",
        "print('Accuracy of Model : ', accuracy_of_model_D)"
      ],
      "execution_count": null,
      "outputs": [
        {
          "output_type": "stream",
          "name": "stdout",
          "text": [
            "Accuracy of Model :  0.7386221294363257\n"
          ]
        }
      ]
    },
    {
      "cell_type": "markdown",
      "metadata": {
        "id": "ZIOWgSeICmQe"
      },
      "source": [
        "**Training The Random Forest Classification Model On The Training Set**"
      ]
    },
    {
      "cell_type": "code",
      "metadata": {
        "id": "-w9-uWdCtRTf",
        "colab": {
          "base_uri": "https://localhost:8080/"
        },
        "outputId": "8c42d297-2959-4c84-eb56-f2c80dd72ac9"
      },
      "source": [
        "from sklearn.ensemble import RandomForestClassifier\n",
        "RF_clf = RandomForestClassifier(n_estimators=100, random_state=0)\n",
        "RF_clf.fit(X_train, y_train)"
      ],
      "execution_count": null,
      "outputs": [
        {
          "output_type": "execute_result",
          "data": {
            "text/plain": [
              "RandomForestClassifier(bootstrap=True, ccp_alpha=0.0, class_weight=None,\n",
              "                       criterion='gini', max_depth=None, max_features='auto',\n",
              "                       max_leaf_nodes=None, max_samples=None,\n",
              "                       min_impurity_decrease=0.0, min_impurity_split=None,\n",
              "                       min_samples_leaf=1, min_samples_split=2,\n",
              "                       min_weight_fraction_leaf=0.0, n_estimators=100,\n",
              "                       n_jobs=None, oob_score=False, random_state=0, verbose=0,\n",
              "                       warm_start=False)"
            ]
          },
          "metadata": {},
          "execution_count": 136
        }
      ]
    },
    {
      "cell_type": "markdown",
      "metadata": {
        "id": "9CcYqCYgtQzH"
      },
      "source": [
        "**Prediction of Result using Random Forest Model**"
      ]
    },
    {
      "cell_type": "code",
      "metadata": {
        "id": "gPh7xWIitR61",
        "colab": {
          "base_uri": "https://localhost:8080/"
        },
        "outputId": "713cfe1b-f537-4783-f99e-083ca98a6bd0"
      },
      "source": [
        "predict_new_result = RF_clf.predict([X_test[0]])\n",
        "print(y_test[0], predict_new_result[0])"
      ],
      "execution_count": null,
      "outputs": [
        {
          "output_type": "stream",
          "name": "stdout",
          "text": [
            "0 0\n"
          ]
        }
      ]
    },
    {
      "cell_type": "markdown",
      "metadata": {
        "id": "XV1b__lFDGOq"
      },
      "source": [
        "**Building The Confusion Matrix of Random Forest Model**"
      ]
    },
    {
      "cell_type": "code",
      "metadata": {
        "id": "lfht0rvebcsN",
        "colab": {
          "base_uri": "https://localhost:8080/"
        },
        "outputId": "f4341ced-2c80-474a-f872-54c3b9b8660f"
      },
      "source": [
        "y_predict_RF = RF_clf.predict(X_test)\n",
        "cm_RF = confusion_matrix(y_test, y_predict_RF)\n",
        "print(cm_RF)"
      ],
      "execution_count": null,
      "outputs": [
        {
          "output_type": "stream",
          "name": "stdout",
          "text": [
            "[[1999   15]\n",
            " [ 366   15]]\n"
          ]
        }
      ]
    },
    {
      "cell_type": "markdown",
      "metadata": {
        "id": "MXpLXn-ftk2L"
      },
      "source": [
        "**Accuracy of Random Forest Model**"
      ]
    },
    {
      "cell_type": "code",
      "metadata": {
        "id": "CrY81gGNtul6",
        "colab": {
          "base_uri": "https://localhost:8080/"
        },
        "outputId": "1b254f22-5173-4834-987e-ed9fe9259d95"
      },
      "source": [
        "accuracy_of_model_RF = accuracy_score(y_test, y_predict_RF)\n",
        "print('Accuracy of Model : ', accuracy_of_model_RF)"
      ],
      "execution_count": null,
      "outputs": [
        {
          "output_type": "stream",
          "name": "stdout",
          "text": [
            "Accuracy of Model :  0.8409185803757829\n"
          ]
        }
      ]
    },
    {
      "cell_type": "markdown",
      "metadata": {
        "id": "WKYlQLRx17f7"
      },
      "source": [
        "##**Observation :**\n",
        "\n",
        "### Logistic Regression: 83.84 (false negative :379) \n",
        "### Decision Tree : 73.86 (false negative : 293) \n",
        "### Random Forest : 84.00 (false negative : 366)\n",
        "\n",
        "**Conclusion:** we will go with **Random Forest Model** as we get maximum accuracy with minimum negative in all model which we have implemented."
      ]
    }
  ]
}